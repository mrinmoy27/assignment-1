{
 "cells": [
  {
   "cell_type": "markdown",
   "id": "9818ffc8",
   "metadata": {},
   "source": [
    "# Python Practice Problems"
   ]
  },
  {
   "cell_type": "markdown",
   "id": "92c96f2f",
   "metadata": {},
   "source": [
    "### 1. Find the Largest of Two Numbers\n",
    "**Task:** Given two numbers, find the larger one.  \n",
    "**Demo Input:**  5 and 6 <br>\n",
    "**Output:** 6\n"
   ]
  },
  {
   "cell_type": "code",
   "execution_count": 6,
   "id": "15c848cf",
   "metadata": {},
   "outputs": [
    {
     "name": "stdout",
     "output_type": "stream",
     "text": [
      "6 is larger\n"
     ]
    }
   ],
   "source": [
    "a = 5\n",
    "b = 6\n",
    "if a > b:\n",
    "    print(a, \"is larger.\")\n",
    "else:\n",
    "    print(b, \"is larger\")"
   ]
  },
  {
   "cell_type": "markdown",
   "id": "c8c1c683",
   "metadata": {},
   "source": [
    "### 2. Print Numbers from 1 to N\n",
    "**Task**: Given a number `n`, print all numbers from 1 to `n`. <br> \n",
    "**Demo Input**: `5`  <br>\n",
    "**Demo Output**:  1 2 3 4 5\n"
   ]
  },
  {
   "cell_type": "code",
   "execution_count": 10,
   "id": "4f9f4529",
   "metadata": {},
   "outputs": [
    {
     "name": "stdin",
     "output_type": "stream",
     "text": [
      " 5\n"
     ]
    },
    {
     "name": "stdout",
     "output_type": "stream",
     "text": [
      "[1, 2, 3, 4, 5]\n"
     ]
    }
   ],
   "source": [
    "n = int(input())\n",
    "x = []\n",
    "for i in range(1,n+1):\n",
    "    x.append(i)\n",
    "print(x)"
   ]
  },
  {
   "cell_type": "markdown",
   "id": "899df468",
   "metadata": {},
   "source": [
    "### 3. Check if a Number is Positive or Negative\n",
    "**Task**: Determine if the input number is positive, negative, or zero.  \n",
    "**Demo Input**: `-3`  \n",
    "**Demo Output**: `The number is Negative`"
   ]
  },
  {
   "cell_type": "code",
   "execution_count": 38,
   "id": "56ae285e",
   "metadata": {},
   "outputs": [
    {
     "name": "stdin",
     "output_type": "stream",
     "text": [
      "Enter a Number: -3\n"
     ]
    },
    {
     "name": "stdout",
     "output_type": "stream",
     "text": [
      "The input number -3 is Negative\n"
     ]
    }
   ],
   "source": [
    "n = int(input(\"Enter a Number:\"))\n",
    "if n > 0:\n",
    "    print(\"The input number\", n, \"is positive\")\n",
    "elif n < 0:\n",
    "    print(\"The input number\", n, \"is Negative\")\n",
    "else:\n",
    "    print(\"The input number\", n, \"is zero\")\n",
    "    "
   ]
  },
  {
   "cell_type": "markdown",
   "id": "9d865d12",
   "metadata": {},
   "source": [
    "### 4. Calculate the Sum of Digits\n",
    "**Task**: Given a number, find the sum of its digits.  \n",
    "**Demo Input**: `123`  \n",
    "**Demo Output**: `6`  \n",
    "(Explanation: `1+2+3=6`)"
   ]
  },
  {
   "cell_type": "code",
   "execution_count": 39,
   "id": "c28b2c6c",
   "metadata": {},
   "outputs": [
    {
     "name": "stdin",
     "output_type": "stream",
     "text": [
      "Enter Number:  123\n"
     ]
    },
    {
     "name": "stdout",
     "output_type": "stream",
     "text": [
      "6\n"
     ]
    }
   ],
   "source": [
    "num = input(\"Enter Number: \")\n",
    "sum = 0\n",
    "for i in num:\n",
    "    sum = sum + int(i)\n",
    "print(sum)"
   ]
  },
  {
   "cell_type": "markdown",
   "id": "a970046f",
   "metadata": {},
   "source": [
    "### 5. Find Factorial of a Number\n",
    "**Task**: Calculate the factorial of a given number.  \n",
    "**Demo Input**: `4`  \n",
    "**Demo Output**: `24`  \n",
    "(Explanation: `4! = 4*3*2*1 = 24`)"
   ]
  },
  {
   "cell_type": "code",
   "execution_count": 35,
   "id": "fd5966d2",
   "metadata": {},
   "outputs": [
    {
     "name": "stdin",
     "output_type": "stream",
     "text": [
      "Input a number: 4\n"
     ]
    },
    {
     "name": "stdout",
     "output_type": "stream",
     "text": [
      "24\n"
     ]
    }
   ],
   "source": [
    "def factorial(number):\n",
    "    if number == 0:\n",
    "        return 1\n",
    "    else:\n",
    "        return number * factorial(number - 1)\n",
    "number = int(input(\"Input a number:\"))\n",
    "print(factorial(number))"
   ]
  },
  {
   "cell_type": "markdown",
   "id": "c8798099",
   "metadata": {},
   "source": [
    "### 6. Count Occurrences of a Digit\n",
    "**Task**: Count how many times a specific digit appears max in a number.  \n",
    "**Demo Input**:  1233321 <br>\n",
    "**Demo Output**: `3`  <br>\n",
    "(Explanation: `3` appears 3 times in `1233321`)"
   ]
  },
  {
   "cell_type": "code",
   "execution_count": 31,
   "id": "5772f0e6",
   "metadata": {},
   "outputs": [
    {
     "name": "stdout",
     "output_type": "stream",
     "text": [
      "3\n"
     ]
    }
   ],
   "source": [
    "num = [1, 2, 3, 3, 3, 2, 1]\n",
    "print(num.count(3))"
   ]
  },
  {
   "cell_type": "markdown",
   "id": "b7f985bc",
   "metadata": {},
   "source": [
    "### 7. Find the GCD of Two Numbers\n",
    "**Task**: Find the greatest common divisor (GCD) of two numbers.  \n",
    "**Demo Input**: 8 and 12 <br>\n",
    "**Demo Output**: `4`"
   ]
  },
  {
   "cell_type": "code",
   "execution_count": 22,
   "id": "a467887d",
   "metadata": {},
   "outputs": [
    {
     "name": "stdout",
     "output_type": "stream",
     "text": [
      "GCD of 8 and 12 is 4\n"
     ]
    }
   ],
   "source": [
    "num1 = 8\n",
    "num2 = 12\n",
    "for i in range(1, min(num1, num2)):\n",
    "    if num1 % i == 0 and num2 % i == 0:\n",
    "        gcd = i\n",
    "print(\"GCD of\", num1, \"and\", num2, \"is\", gcd)"
   ]
  },
  {
   "cell_type": "markdown",
   "id": "14c6a2fd",
   "metadata": {},
   "source": [
    "### 8. Reverse a String\n",
    "**Task**: Reverse the given string.  \n",
    "**Demo Input**: `\"aiquest\"`  \n",
    "**Demo Output**: `\"tseuqia\"`"
   ]
  },
  {
   "cell_type": "code",
   "execution_count": 19,
   "id": "bd22e158",
   "metadata": {},
   "outputs": [
    {
     "name": "stdout",
     "output_type": "stream",
     "text": [
      "tseuqia\n"
     ]
    }
   ],
   "source": [
    "txt = \"aiquest\"\n",
    "print(txt[::-1])"
   ]
  },
  {
   "cell_type": "markdown",
   "id": "88317dfd",
   "metadata": {},
   "source": [
    "### 9. Check Armstrong Number\n",
    "**Task**: Check if a number is an Armstrong number (the sum of its digits raised to the power of the number of digits equals the number).  \n",
    "**Demo Input**: `153`  \n",
    "**Demo Output**: `153 is an Armstrong Number`  \n",
    "(Explanation: \\(1^3 + 5^3 + 3^3 = 153\\))"
   ]
  },
  {
   "cell_type": "code",
   "execution_count": null,
   "id": "2602ff94",
   "metadata": {},
   "outputs": [],
   "source": []
  },
  {
   "cell_type": "markdown",
   "id": "0905a3cc",
   "metadata": {},
   "source": [
    "### 10. Generate a Pattern\n",
    "**Task**: Print a pyramid pattern with `n` rows.  \n",
    "**Demo input:** 4 <br>\n",
    "**Output:** You will see the pyramid pattern with 4 rows"
   ]
  },
  {
   "cell_type": "code",
   "execution_count": 36,
   "id": "83d8b483",
   "metadata": {},
   "outputs": [
    {
     "name": "stdin",
     "output_type": "stream",
     "text": [
      "Enter number of rows:  4\n"
     ]
    },
    {
     "name": "stdout",
     "output_type": "stream",
     "text": [
      "* \n",
      "* * \n",
      "* * * \n",
      "* * * * \n"
     ]
    }
   ],
   "source": [
    "rows = int(input(\"Enter number of rows: \"))\n",
    "for i in range(rows):\n",
    "    for j in range(i+1):\n",
    "        print(\"* \", end=\"\")\n",
    "    print()\n",
    "   "
   ]
  },
  {
   "cell_type": "markdown",
   "id": "ec723917",
   "metadata": {},
   "source": [
    "# Good Luck!"
   ]
  }
 ],
 "metadata": {
  "kernelspec": {
   "display_name": "Python 3 (ipykernel)",
   "language": "python",
   "name": "python3"
  },
  "language_info": {
   "codemirror_mode": {
    "name": "ipython",
    "version": 3
   },
   "file_extension": ".py",
   "mimetype": "text/x-python",
   "name": "python",
   "nbconvert_exporter": "python",
   "pygments_lexer": "ipython3",
   "version": "3.10.10"
  }
 },
 "nbformat": 4,
 "nbformat_minor": 5
}
